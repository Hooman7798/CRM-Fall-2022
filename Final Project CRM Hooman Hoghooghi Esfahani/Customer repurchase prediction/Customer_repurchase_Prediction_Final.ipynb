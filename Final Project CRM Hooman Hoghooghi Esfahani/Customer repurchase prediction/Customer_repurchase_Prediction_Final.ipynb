{
  "nbformat": 4,
  "nbformat_minor": 0,
  "metadata": {
    "colab": {
      "provenance": []
    },
    "kernelspec": {
      "name": "python3",
      "display_name": "Python 3"
    },
    "language_info": {
      "name": "python"
    }
  },
  "cells": [
    {
      "cell_type": "code",
      "execution_count": null,
      "metadata": {
        "id": "bD7uTQ4sPRic"
      },
      "outputs": [],
      "source": [
        "cd /content/drive/My Drive"
      ]
    },
    {
      "cell_type": "code",
      "source": [
        "import pandas as pd\n",
        "import datetime as dt\n",
        "import numpy as np\n",
        "from sklearn.preprocessing import MinMaxScaler\n",
        "from sklearn.model_selection import train_test_split\n",
        "from sklearn.naive_bayes import MultinomialNB\n",
        "from sklearn.tree import DecisionTreeClassifier\n",
        "from sklearn.model_selection import KFold, cross_val_score\n",
        "import keras\n",
        "from keras.models import Sequential\n",
        "from keras.layers import Dense\n",
        "from keras import backend as K\n",
        "from sklearn.metrics import precision_score, recall_score, f1_score, accuracy_score"
      ],
      "metadata": {
        "id": "yMnh8TScPpHI"
      },
      "execution_count": 30,
      "outputs": []
    },
    {
      "cell_type": "code",
      "source": [
        "data = pd.read_excel( 'Modified Dataset.xls' )"
      ],
      "metadata": {
        "id": "-YfrJJwUPrwH"
      },
      "execution_count": 31,
      "outputs": []
    },
    {
      "cell_type": "code",
      "source": [
        "data.head(10)"
      ],
      "metadata": {
        "id": "U7YKNDwa7bQZ",
        "colab": {
          "base_uri": "https://localhost:8080/",
          "height": 461
        },
        "outputId": "8b0c6aa2-809b-443c-c7d6-ac87c9ba12f4"
      },
      "execution_count": 32,
      "outputs": [
        {
          "output_type": "execute_result",
          "data": {
            "text/plain": [
              "      id  Miangin_Ketab  Toole_Ketab  Miangin_Gheimat  Majmoo_Gheimat  Review  \\\n",
              "0   9011          648.0          648             5.33            5.33       0   \n",
              "1  16370         2160.0         2160             5.33            5.33       0   \n",
              "2  19996          594.0         1188            29.33           58.67       0   \n",
              "3  27030         1188.0         4752             6.00           23.99       0   \n",
              "4  29095         1404.0         2808            27.99           55.99       0   \n",
              "5   3699         2160.0         2160             5.33            5.33       0   \n",
              "6   4722         1332.0         3996             5.33           15.99       0   \n",
              "7  12413          756.0         1512             8.73           17.47       0   \n",
              "8  17321         1404.0         2808            11.35           22.70       0   \n",
              "9  18755         2160.0         2160            10.98           10.98       0   \n",
              "\n",
              "   Emtiaze_review  Completion  Daghayeghe-Shenide shode  Darkhaste-Poshtibani  \\\n",
              "0             NaN         0.0                       0.0                     0   \n",
              "1             NaN         0.0                       0.0                     0   \n",
              "2            10.0         0.0                       0.0                     0   \n",
              "3            10.0         0.0                       0.0                     0   \n",
              "4             NaN         0.0                       0.0                     0   \n",
              "5             NaN         0.0                       0.0                     0   \n",
              "6             NaN         0.0                       0.0                     0   \n",
              "7             NaN         0.0                       0.0                     0   \n",
              "8            10.0         0.0                       0.0                     0   \n",
              "9             NaN         0.0                       0.0                     0   \n",
              "\n",
              "   Zamane_akharin_bazdid -Zamane_kharid  Target  \n",
              "0                                     0       1  \n",
              "1                                     0       1  \n",
              "2                                     0       1  \n",
              "3                                   176       1  \n",
              "4                                     0       1  \n",
              "5                                     1       1  \n",
              "6                                    86       1  \n",
              "7                                     0       1  \n",
              "8                                   209       1  \n",
              "9                                   351       1  "
            ],
            "text/html": [
              "\n",
              "  <div id=\"df-46e075aa-126d-420c-bb0c-655e44675c91\">\n",
              "    <div class=\"colab-df-container\">\n",
              "      <div>\n",
              "<style scoped>\n",
              "    .dataframe tbody tr th:only-of-type {\n",
              "        vertical-align: middle;\n",
              "    }\n",
              "\n",
              "    .dataframe tbody tr th {\n",
              "        vertical-align: top;\n",
              "    }\n",
              "\n",
              "    .dataframe thead th {\n",
              "        text-align: right;\n",
              "    }\n",
              "</style>\n",
              "<table border=\"1\" class=\"dataframe\">\n",
              "  <thead>\n",
              "    <tr style=\"text-align: right;\">\n",
              "      <th></th>\n",
              "      <th>id</th>\n",
              "      <th>Miangin_Ketab</th>\n",
              "      <th>Toole_Ketab</th>\n",
              "      <th>Miangin_Gheimat</th>\n",
              "      <th>Majmoo_Gheimat</th>\n",
              "      <th>Review</th>\n",
              "      <th>Emtiaze_review</th>\n",
              "      <th>Completion</th>\n",
              "      <th>Daghayeghe-Shenide shode</th>\n",
              "      <th>Darkhaste-Poshtibani</th>\n",
              "      <th>Zamane_akharin_bazdid -Zamane_kharid</th>\n",
              "      <th>Target</th>\n",
              "    </tr>\n",
              "  </thead>\n",
              "  <tbody>\n",
              "    <tr>\n",
              "      <th>0</th>\n",
              "      <td>9011</td>\n",
              "      <td>648.0</td>\n",
              "      <td>648</td>\n",
              "      <td>5.33</td>\n",
              "      <td>5.33</td>\n",
              "      <td>0</td>\n",
              "      <td>NaN</td>\n",
              "      <td>0.0</td>\n",
              "      <td>0.0</td>\n",
              "      <td>0</td>\n",
              "      <td>0</td>\n",
              "      <td>1</td>\n",
              "    </tr>\n",
              "    <tr>\n",
              "      <th>1</th>\n",
              "      <td>16370</td>\n",
              "      <td>2160.0</td>\n",
              "      <td>2160</td>\n",
              "      <td>5.33</td>\n",
              "      <td>5.33</td>\n",
              "      <td>0</td>\n",
              "      <td>NaN</td>\n",
              "      <td>0.0</td>\n",
              "      <td>0.0</td>\n",
              "      <td>0</td>\n",
              "      <td>0</td>\n",
              "      <td>1</td>\n",
              "    </tr>\n",
              "    <tr>\n",
              "      <th>2</th>\n",
              "      <td>19996</td>\n",
              "      <td>594.0</td>\n",
              "      <td>1188</td>\n",
              "      <td>29.33</td>\n",
              "      <td>58.67</td>\n",
              "      <td>0</td>\n",
              "      <td>10.0</td>\n",
              "      <td>0.0</td>\n",
              "      <td>0.0</td>\n",
              "      <td>0</td>\n",
              "      <td>0</td>\n",
              "      <td>1</td>\n",
              "    </tr>\n",
              "    <tr>\n",
              "      <th>3</th>\n",
              "      <td>27030</td>\n",
              "      <td>1188.0</td>\n",
              "      <td>4752</td>\n",
              "      <td>6.00</td>\n",
              "      <td>23.99</td>\n",
              "      <td>0</td>\n",
              "      <td>10.0</td>\n",
              "      <td>0.0</td>\n",
              "      <td>0.0</td>\n",
              "      <td>0</td>\n",
              "      <td>176</td>\n",
              "      <td>1</td>\n",
              "    </tr>\n",
              "    <tr>\n",
              "      <th>4</th>\n",
              "      <td>29095</td>\n",
              "      <td>1404.0</td>\n",
              "      <td>2808</td>\n",
              "      <td>27.99</td>\n",
              "      <td>55.99</td>\n",
              "      <td>0</td>\n",
              "      <td>NaN</td>\n",
              "      <td>0.0</td>\n",
              "      <td>0.0</td>\n",
              "      <td>0</td>\n",
              "      <td>0</td>\n",
              "      <td>1</td>\n",
              "    </tr>\n",
              "    <tr>\n",
              "      <th>5</th>\n",
              "      <td>3699</td>\n",
              "      <td>2160.0</td>\n",
              "      <td>2160</td>\n",
              "      <td>5.33</td>\n",
              "      <td>5.33</td>\n",
              "      <td>0</td>\n",
              "      <td>NaN</td>\n",
              "      <td>0.0</td>\n",
              "      <td>0.0</td>\n",
              "      <td>0</td>\n",
              "      <td>1</td>\n",
              "      <td>1</td>\n",
              "    </tr>\n",
              "    <tr>\n",
              "      <th>6</th>\n",
              "      <td>4722</td>\n",
              "      <td>1332.0</td>\n",
              "      <td>3996</td>\n",
              "      <td>5.33</td>\n",
              "      <td>15.99</td>\n",
              "      <td>0</td>\n",
              "      <td>NaN</td>\n",
              "      <td>0.0</td>\n",
              "      <td>0.0</td>\n",
              "      <td>0</td>\n",
              "      <td>86</td>\n",
              "      <td>1</td>\n",
              "    </tr>\n",
              "    <tr>\n",
              "      <th>7</th>\n",
              "      <td>12413</td>\n",
              "      <td>756.0</td>\n",
              "      <td>1512</td>\n",
              "      <td>8.73</td>\n",
              "      <td>17.47</td>\n",
              "      <td>0</td>\n",
              "      <td>NaN</td>\n",
              "      <td>0.0</td>\n",
              "      <td>0.0</td>\n",
              "      <td>0</td>\n",
              "      <td>0</td>\n",
              "      <td>1</td>\n",
              "    </tr>\n",
              "    <tr>\n",
              "      <th>8</th>\n",
              "      <td>17321</td>\n",
              "      <td>1404.0</td>\n",
              "      <td>2808</td>\n",
              "      <td>11.35</td>\n",
              "      <td>22.70</td>\n",
              "      <td>0</td>\n",
              "      <td>10.0</td>\n",
              "      <td>0.0</td>\n",
              "      <td>0.0</td>\n",
              "      <td>0</td>\n",
              "      <td>209</td>\n",
              "      <td>1</td>\n",
              "    </tr>\n",
              "    <tr>\n",
              "      <th>9</th>\n",
              "      <td>18755</td>\n",
              "      <td>2160.0</td>\n",
              "      <td>2160</td>\n",
              "      <td>10.98</td>\n",
              "      <td>10.98</td>\n",
              "      <td>0</td>\n",
              "      <td>NaN</td>\n",
              "      <td>0.0</td>\n",
              "      <td>0.0</td>\n",
              "      <td>0</td>\n",
              "      <td>351</td>\n",
              "      <td>1</td>\n",
              "    </tr>\n",
              "  </tbody>\n",
              "</table>\n",
              "</div>\n",
              "      <button class=\"colab-df-convert\" onclick=\"convertToInteractive('df-46e075aa-126d-420c-bb0c-655e44675c91')\"\n",
              "              title=\"Convert this dataframe to an interactive table.\"\n",
              "              style=\"display:none;\">\n",
              "        \n",
              "  <svg xmlns=\"http://www.w3.org/2000/svg\" height=\"24px\"viewBox=\"0 0 24 24\"\n",
              "       width=\"24px\">\n",
              "    <path d=\"M0 0h24v24H0V0z\" fill=\"none\"/>\n",
              "    <path d=\"M18.56 5.44l.94 2.06.94-2.06 2.06-.94-2.06-.94-.94-2.06-.94 2.06-2.06.94zm-11 1L8.5 8.5l.94-2.06 2.06-.94-2.06-.94L8.5 2.5l-.94 2.06-2.06.94zm10 10l.94 2.06.94-2.06 2.06-.94-2.06-.94-.94-2.06-.94 2.06-2.06.94z\"/><path d=\"M17.41 7.96l-1.37-1.37c-.4-.4-.92-.59-1.43-.59-.52 0-1.04.2-1.43.59L10.3 9.45l-7.72 7.72c-.78.78-.78 2.05 0 2.83L4 21.41c.39.39.9.59 1.41.59.51 0 1.02-.2 1.41-.59l7.78-7.78 2.81-2.81c.8-.78.8-2.07 0-2.86zM5.41 20L4 18.59l7.72-7.72 1.47 1.35L5.41 20z\"/>\n",
              "  </svg>\n",
              "      </button>\n",
              "      \n",
              "  <style>\n",
              "    .colab-df-container {\n",
              "      display:flex;\n",
              "      flex-wrap:wrap;\n",
              "      gap: 12px;\n",
              "    }\n",
              "\n",
              "    .colab-df-convert {\n",
              "      background-color: #E8F0FE;\n",
              "      border: none;\n",
              "      border-radius: 50%;\n",
              "      cursor: pointer;\n",
              "      display: none;\n",
              "      fill: #1967D2;\n",
              "      height: 32px;\n",
              "      padding: 0 0 0 0;\n",
              "      width: 32px;\n",
              "    }\n",
              "\n",
              "    .colab-df-convert:hover {\n",
              "      background-color: #E2EBFA;\n",
              "      box-shadow: 0px 1px 2px rgba(60, 64, 67, 0.3), 0px 1px 3px 1px rgba(60, 64, 67, 0.15);\n",
              "      fill: #174EA6;\n",
              "    }\n",
              "\n",
              "    [theme=dark] .colab-df-convert {\n",
              "      background-color: #3B4455;\n",
              "      fill: #D2E3FC;\n",
              "    }\n",
              "\n",
              "    [theme=dark] .colab-df-convert:hover {\n",
              "      background-color: #434B5C;\n",
              "      box-shadow: 0px 1px 3px 1px rgba(0, 0, 0, 0.15);\n",
              "      filter: drop-shadow(0px 1px 2px rgba(0, 0, 0, 0.3));\n",
              "      fill: #FFFFFF;\n",
              "    }\n",
              "  </style>\n",
              "\n",
              "      <script>\n",
              "        const buttonEl =\n",
              "          document.querySelector('#df-46e075aa-126d-420c-bb0c-655e44675c91 button.colab-df-convert');\n",
              "        buttonEl.style.display =\n",
              "          google.colab.kernel.accessAllowed ? 'block' : 'none';\n",
              "\n",
              "        async function convertToInteractive(key) {\n",
              "          const element = document.querySelector('#df-46e075aa-126d-420c-bb0c-655e44675c91');\n",
              "          const dataTable =\n",
              "            await google.colab.kernel.invokeFunction('convertToInteractive',\n",
              "                                                     [key], {});\n",
              "          if (!dataTable) return;\n",
              "\n",
              "          const docLinkHtml = 'Like what you see? Visit the ' +\n",
              "            '<a target=\"_blank\" href=https://colab.research.google.com/notebooks/data_table.ipynb>data table notebook</a>'\n",
              "            + ' to learn more about interactive tables.';\n",
              "          element.innerHTML = '';\n",
              "          dataTable['output_type'] = 'display_data';\n",
              "          await google.colab.output.renderOutput(dataTable, element);\n",
              "          const docLink = document.createElement('div');\n",
              "          docLink.innerHTML = docLinkHtml;\n",
              "          element.appendChild(docLink);\n",
              "        }\n",
              "      </script>\n",
              "    </div>\n",
              "  </div>\n",
              "  "
            ]
          },
          "metadata": {},
          "execution_count": 32
        }
      ]
    },
    {
      "cell_type": "code",
      "source": [
        "#Determine Missing values\n",
        "print(\"missing value\")\n",
        "print(data.isna().sum())"
      ],
      "metadata": {
        "id": "QqO72HCQQI6u",
        "colab": {
          "base_uri": "https://localhost:8080/"
        },
        "outputId": "ac1b114c-41f3-4f16-ad9f-bd0e7259508b"
      },
      "execution_count": 33,
      "outputs": [
        {
          "output_type": "stream",
          "name": "stdout",
          "text": [
            "missing value\n",
            "id                                         0\n",
            "Miangin_Ketab                              0\n",
            "Toole_Ketab                                0\n",
            "Miangin_Gheimat                            0\n",
            "Majmoo_Gheimat                             0\n",
            "Review                                     0\n",
            "Emtiaze_review                          3499\n",
            "Completion                                 0\n",
            "Daghayeghe-Shenide shode                   0\n",
            "Darkhaste-Poshtibani                       0\n",
            "Zamane_akharin_bazdid -Zamane_kharid       0\n",
            "Target                                     0\n",
            "dtype: int64\n"
          ]
        }
      ]
    },
    {
      "cell_type": "code",
      "source": [
        "# Fill missing Values with zero\n",
        "data = data.fillna(0)"
      ],
      "metadata": {
        "id": "7wb_OonK8D6Z"
      },
      "execution_count": 5,
      "outputs": []
    },
    {
      "cell_type": "code",
      "source": [
        "# Drop High Correlated features\n",
        "data.drop('id', inplace=True, axis=1)\n",
        "data.drop('Emtiaze_review', inplace=True, axis=1)\n",
        "data.drop('Miangin_Gheimat', inplace=True, axis=1)\n",
        "data.drop('Miangin_Ketab', inplace=True, axis=1)\n",
        "data.drop('Daghayeghe-Shenide shode', inplace=True, axis=1)"
      ],
      "metadata": {
        "id": "PqXs1RC3PtZu"
      },
      "execution_count": 6,
      "outputs": []
    },
    {
      "cell_type": "code",
      "source": [
        "#showing that the dataset is no longer imbalanced.\n",
        "data['Target'].value_counts()"
      ],
      "metadata": {
        "id": "rhQFQI-CYLgl",
        "colab": {
          "base_uri": "https://localhost:8080/"
        },
        "outputId": "a6bd1bc8-9fc8-490b-8632-cea5141308bc"
      },
      "execution_count": 7,
      "outputs": [
        {
          "output_type": "execute_result",
          "data": {
            "text/plain": [
              "1    2237\n",
              "0    2237\n",
              "Name: Target, dtype: int64"
            ]
          },
          "metadata": {},
          "execution_count": 7
        }
      ]
    },
    {
      "cell_type": "code",
      "source": [
        "#shuffling the dataset\n",
        "data = data.sample(frac = 1,ignore_index = True) #shuffling the dataset"
      ],
      "metadata": {
        "id": "ib9scnfz8H7q"
      },
      "execution_count": 8,
      "outputs": []
    },
    {
      "cell_type": "code",
      "source": [
        "data.head(10)"
      ],
      "metadata": {
        "id": "tLGZ73Kf8qhh",
        "colab": {
          "base_uri": "https://localhost:8080/",
          "height": 362
        },
        "outputId": "0b3933a7-fad1-4b86-a367-631b3bed7ca8"
      },
      "execution_count": 9,
      "outputs": [
        {
          "output_type": "execute_result",
          "data": {
            "text/plain": [
              "   Toole_Ketab  Majmoo_Gheimat  Review  Completion  Darkhaste-Poshtibani  \\\n",
              "0         2160            5.33       0        0.03                     0   \n",
              "1         1188            7.47       0        0.00                     0   \n",
              "2         2160            5.33       0        0.00                     0   \n",
              "3         1620            7.99       1        0.00                     0   \n",
              "4         2160            7.99       0        0.00                     0   \n",
              "5         2160            5.33       0        0.00                     0   \n",
              "6         2160           10.13       0        0.00                     0   \n",
              "7         1620            8.00       0        0.00                     0   \n",
              "8         3348           16.00       0        0.00                     0   \n",
              "9         1620            5.74       0        0.14                     0   \n",
              "\n",
              "   Zamane_akharin_bazdid -Zamane_kharid  Target  \n",
              "0                                     8       0  \n",
              "1                                    31       1  \n",
              "2                                     0       1  \n",
              "3                                     5       1  \n",
              "4                                    54       0  \n",
              "5                                     0       1  \n",
              "6                                     0       1  \n",
              "7                                    98       1  \n",
              "8                                     0       1  \n",
              "9                                   202       0  "
            ],
            "text/html": [
              "\n",
              "  <div id=\"df-8335fd10-958a-495a-91f3-3e2b5832817e\">\n",
              "    <div class=\"colab-df-container\">\n",
              "      <div>\n",
              "<style scoped>\n",
              "    .dataframe tbody tr th:only-of-type {\n",
              "        vertical-align: middle;\n",
              "    }\n",
              "\n",
              "    .dataframe tbody tr th {\n",
              "        vertical-align: top;\n",
              "    }\n",
              "\n",
              "    .dataframe thead th {\n",
              "        text-align: right;\n",
              "    }\n",
              "</style>\n",
              "<table border=\"1\" class=\"dataframe\">\n",
              "  <thead>\n",
              "    <tr style=\"text-align: right;\">\n",
              "      <th></th>\n",
              "      <th>Toole_Ketab</th>\n",
              "      <th>Majmoo_Gheimat</th>\n",
              "      <th>Review</th>\n",
              "      <th>Completion</th>\n",
              "      <th>Darkhaste-Poshtibani</th>\n",
              "      <th>Zamane_akharin_bazdid -Zamane_kharid</th>\n",
              "      <th>Target</th>\n",
              "    </tr>\n",
              "  </thead>\n",
              "  <tbody>\n",
              "    <tr>\n",
              "      <th>0</th>\n",
              "      <td>2160</td>\n",
              "      <td>5.33</td>\n",
              "      <td>0</td>\n",
              "      <td>0.03</td>\n",
              "      <td>0</td>\n",
              "      <td>8</td>\n",
              "      <td>0</td>\n",
              "    </tr>\n",
              "    <tr>\n",
              "      <th>1</th>\n",
              "      <td>1188</td>\n",
              "      <td>7.47</td>\n",
              "      <td>0</td>\n",
              "      <td>0.00</td>\n",
              "      <td>0</td>\n",
              "      <td>31</td>\n",
              "      <td>1</td>\n",
              "    </tr>\n",
              "    <tr>\n",
              "      <th>2</th>\n",
              "      <td>2160</td>\n",
              "      <td>5.33</td>\n",
              "      <td>0</td>\n",
              "      <td>0.00</td>\n",
              "      <td>0</td>\n",
              "      <td>0</td>\n",
              "      <td>1</td>\n",
              "    </tr>\n",
              "    <tr>\n",
              "      <th>3</th>\n",
              "      <td>1620</td>\n",
              "      <td>7.99</td>\n",
              "      <td>1</td>\n",
              "      <td>0.00</td>\n",
              "      <td>0</td>\n",
              "      <td>5</td>\n",
              "      <td>1</td>\n",
              "    </tr>\n",
              "    <tr>\n",
              "      <th>4</th>\n",
              "      <td>2160</td>\n",
              "      <td>7.99</td>\n",
              "      <td>0</td>\n",
              "      <td>0.00</td>\n",
              "      <td>0</td>\n",
              "      <td>54</td>\n",
              "      <td>0</td>\n",
              "    </tr>\n",
              "    <tr>\n",
              "      <th>5</th>\n",
              "      <td>2160</td>\n",
              "      <td>5.33</td>\n",
              "      <td>0</td>\n",
              "      <td>0.00</td>\n",
              "      <td>0</td>\n",
              "      <td>0</td>\n",
              "      <td>1</td>\n",
              "    </tr>\n",
              "    <tr>\n",
              "      <th>6</th>\n",
              "      <td>2160</td>\n",
              "      <td>10.13</td>\n",
              "      <td>0</td>\n",
              "      <td>0.00</td>\n",
              "      <td>0</td>\n",
              "      <td>0</td>\n",
              "      <td>1</td>\n",
              "    </tr>\n",
              "    <tr>\n",
              "      <th>7</th>\n",
              "      <td>1620</td>\n",
              "      <td>8.00</td>\n",
              "      <td>0</td>\n",
              "      <td>0.00</td>\n",
              "      <td>0</td>\n",
              "      <td>98</td>\n",
              "      <td>1</td>\n",
              "    </tr>\n",
              "    <tr>\n",
              "      <th>8</th>\n",
              "      <td>3348</td>\n",
              "      <td>16.00</td>\n",
              "      <td>0</td>\n",
              "      <td>0.00</td>\n",
              "      <td>0</td>\n",
              "      <td>0</td>\n",
              "      <td>1</td>\n",
              "    </tr>\n",
              "    <tr>\n",
              "      <th>9</th>\n",
              "      <td>1620</td>\n",
              "      <td>5.74</td>\n",
              "      <td>0</td>\n",
              "      <td>0.14</td>\n",
              "      <td>0</td>\n",
              "      <td>202</td>\n",
              "      <td>0</td>\n",
              "    </tr>\n",
              "  </tbody>\n",
              "</table>\n",
              "</div>\n",
              "      <button class=\"colab-df-convert\" onclick=\"convertToInteractive('df-8335fd10-958a-495a-91f3-3e2b5832817e')\"\n",
              "              title=\"Convert this dataframe to an interactive table.\"\n",
              "              style=\"display:none;\">\n",
              "        \n",
              "  <svg xmlns=\"http://www.w3.org/2000/svg\" height=\"24px\"viewBox=\"0 0 24 24\"\n",
              "       width=\"24px\">\n",
              "    <path d=\"M0 0h24v24H0V0z\" fill=\"none\"/>\n",
              "    <path d=\"M18.56 5.44l.94 2.06.94-2.06 2.06-.94-2.06-.94-.94-2.06-.94 2.06-2.06.94zm-11 1L8.5 8.5l.94-2.06 2.06-.94-2.06-.94L8.5 2.5l-.94 2.06-2.06.94zm10 10l.94 2.06.94-2.06 2.06-.94-2.06-.94-.94-2.06-.94 2.06-2.06.94z\"/><path d=\"M17.41 7.96l-1.37-1.37c-.4-.4-.92-.59-1.43-.59-.52 0-1.04.2-1.43.59L10.3 9.45l-7.72 7.72c-.78.78-.78 2.05 0 2.83L4 21.41c.39.39.9.59 1.41.59.51 0 1.02-.2 1.41-.59l7.78-7.78 2.81-2.81c.8-.78.8-2.07 0-2.86zM5.41 20L4 18.59l7.72-7.72 1.47 1.35L5.41 20z\"/>\n",
              "  </svg>\n",
              "      </button>\n",
              "      \n",
              "  <style>\n",
              "    .colab-df-container {\n",
              "      display:flex;\n",
              "      flex-wrap:wrap;\n",
              "      gap: 12px;\n",
              "    }\n",
              "\n",
              "    .colab-df-convert {\n",
              "      background-color: #E8F0FE;\n",
              "      border: none;\n",
              "      border-radius: 50%;\n",
              "      cursor: pointer;\n",
              "      display: none;\n",
              "      fill: #1967D2;\n",
              "      height: 32px;\n",
              "      padding: 0 0 0 0;\n",
              "      width: 32px;\n",
              "    }\n",
              "\n",
              "    .colab-df-convert:hover {\n",
              "      background-color: #E2EBFA;\n",
              "      box-shadow: 0px 1px 2px rgba(60, 64, 67, 0.3), 0px 1px 3px 1px rgba(60, 64, 67, 0.15);\n",
              "      fill: #174EA6;\n",
              "    }\n",
              "\n",
              "    [theme=dark] .colab-df-convert {\n",
              "      background-color: #3B4455;\n",
              "      fill: #D2E3FC;\n",
              "    }\n",
              "\n",
              "    [theme=dark] .colab-df-convert:hover {\n",
              "      background-color: #434B5C;\n",
              "      box-shadow: 0px 1px 3px 1px rgba(0, 0, 0, 0.15);\n",
              "      filter: drop-shadow(0px 1px 2px rgba(0, 0, 0, 0.3));\n",
              "      fill: #FFFFFF;\n",
              "    }\n",
              "  </style>\n",
              "\n",
              "      <script>\n",
              "        const buttonEl =\n",
              "          document.querySelector('#df-8335fd10-958a-495a-91f3-3e2b5832817e button.colab-df-convert');\n",
              "        buttonEl.style.display =\n",
              "          google.colab.kernel.accessAllowed ? 'block' : 'none';\n",
              "\n",
              "        async function convertToInteractive(key) {\n",
              "          const element = document.querySelector('#df-8335fd10-958a-495a-91f3-3e2b5832817e');\n",
              "          const dataTable =\n",
              "            await google.colab.kernel.invokeFunction('convertToInteractive',\n",
              "                                                     [key], {});\n",
              "          if (!dataTable) return;\n",
              "\n",
              "          const docLinkHtml = 'Like what you see? Visit the ' +\n",
              "            '<a target=\"_blank\" href=https://colab.research.google.com/notebooks/data_table.ipynb>data table notebook</a>'\n",
              "            + ' to learn more about interactive tables.';\n",
              "          element.innerHTML = '';\n",
              "          dataTable['output_type'] = 'display_data';\n",
              "          await google.colab.output.renderOutput(dataTable, element);\n",
              "          const docLink = document.createElement('div');\n",
              "          docLink.innerHTML = docLinkHtml;\n",
              "          element.appendChild(docLink);\n",
              "        }\n",
              "      </script>\n",
              "    </div>\n",
              "  </div>\n",
              "  "
            ]
          },
          "metadata": {},
          "execution_count": 9
        }
      ]
    },
    {
      "cell_type": "code",
      "source": [
        "x = data. iloc[:, 0:6]"
      ],
      "metadata": {
        "id": "f1uxhhqWVGcM"
      },
      "execution_count": 10,
      "outputs": []
    },
    {
      "cell_type": "code",
      "source": [
        "y = data['Target']"
      ],
      "metadata": {
        "id": "Anmkapv0VWws"
      },
      "execution_count": 11,
      "outputs": []
    },
    {
      "cell_type": "code",
      "source": [
        "x"
      ],
      "metadata": {
        "id": "b-1nt9FxVivD",
        "colab": {
          "base_uri": "https://localhost:8080/",
          "height": 423
        },
        "outputId": "9622069c-48c4-4093-bc52-1106132ab097"
      },
      "execution_count": 12,
      "outputs": [
        {
          "output_type": "execute_result",
          "data": {
            "text/plain": [
              "      Toole_Ketab  Majmoo_Gheimat  Review  Completion  Darkhaste-Poshtibani  \\\n",
              "0            2160            5.33       0        0.03                     0   \n",
              "1            1188            7.47       0        0.00                     0   \n",
              "2            2160            5.33       0        0.00                     0   \n",
              "3            1620            7.99       1        0.00                     0   \n",
              "4            2160            7.99       0        0.00                     0   \n",
              "...           ...             ...     ...         ...                   ...   \n",
              "4469         1620            8.00       0        0.00                     0   \n",
              "4470         3780           10.67       0        0.00                     0   \n",
              "4471         5076           23.47       0        0.00                     0   \n",
              "4472         1620            5.33       0        0.00                     0   \n",
              "4473         2160            5.33       0        0.00                     0   \n",
              "\n",
              "      Zamane_akharin_bazdid -Zamane_kharid  \n",
              "0                                        8  \n",
              "1                                       31  \n",
              "2                                        0  \n",
              "3                                        5  \n",
              "4                                       54  \n",
              "...                                    ...  \n",
              "4469                                    35  \n",
              "4470                                     0  \n",
              "4471                                     0  \n",
              "4472                                   162  \n",
              "4473                                     0  \n",
              "\n",
              "[4474 rows x 6 columns]"
            ],
            "text/html": [
              "\n",
              "  <div id=\"df-5d593b8a-89c7-42ab-951c-3a49ace50f29\">\n",
              "    <div class=\"colab-df-container\">\n",
              "      <div>\n",
              "<style scoped>\n",
              "    .dataframe tbody tr th:only-of-type {\n",
              "        vertical-align: middle;\n",
              "    }\n",
              "\n",
              "    .dataframe tbody tr th {\n",
              "        vertical-align: top;\n",
              "    }\n",
              "\n",
              "    .dataframe thead th {\n",
              "        text-align: right;\n",
              "    }\n",
              "</style>\n",
              "<table border=\"1\" class=\"dataframe\">\n",
              "  <thead>\n",
              "    <tr style=\"text-align: right;\">\n",
              "      <th></th>\n",
              "      <th>Toole_Ketab</th>\n",
              "      <th>Majmoo_Gheimat</th>\n",
              "      <th>Review</th>\n",
              "      <th>Completion</th>\n",
              "      <th>Darkhaste-Poshtibani</th>\n",
              "      <th>Zamane_akharin_bazdid -Zamane_kharid</th>\n",
              "    </tr>\n",
              "  </thead>\n",
              "  <tbody>\n",
              "    <tr>\n",
              "      <th>0</th>\n",
              "      <td>2160</td>\n",
              "      <td>5.33</td>\n",
              "      <td>0</td>\n",
              "      <td>0.03</td>\n",
              "      <td>0</td>\n",
              "      <td>8</td>\n",
              "    </tr>\n",
              "    <tr>\n",
              "      <th>1</th>\n",
              "      <td>1188</td>\n",
              "      <td>7.47</td>\n",
              "      <td>0</td>\n",
              "      <td>0.00</td>\n",
              "      <td>0</td>\n",
              "      <td>31</td>\n",
              "    </tr>\n",
              "    <tr>\n",
              "      <th>2</th>\n",
              "      <td>2160</td>\n",
              "      <td>5.33</td>\n",
              "      <td>0</td>\n",
              "      <td>0.00</td>\n",
              "      <td>0</td>\n",
              "      <td>0</td>\n",
              "    </tr>\n",
              "    <tr>\n",
              "      <th>3</th>\n",
              "      <td>1620</td>\n",
              "      <td>7.99</td>\n",
              "      <td>1</td>\n",
              "      <td>0.00</td>\n",
              "      <td>0</td>\n",
              "      <td>5</td>\n",
              "    </tr>\n",
              "    <tr>\n",
              "      <th>4</th>\n",
              "      <td>2160</td>\n",
              "      <td>7.99</td>\n",
              "      <td>0</td>\n",
              "      <td>0.00</td>\n",
              "      <td>0</td>\n",
              "      <td>54</td>\n",
              "    </tr>\n",
              "    <tr>\n",
              "      <th>...</th>\n",
              "      <td>...</td>\n",
              "      <td>...</td>\n",
              "      <td>...</td>\n",
              "      <td>...</td>\n",
              "      <td>...</td>\n",
              "      <td>...</td>\n",
              "    </tr>\n",
              "    <tr>\n",
              "      <th>4469</th>\n",
              "      <td>1620</td>\n",
              "      <td>8.00</td>\n",
              "      <td>0</td>\n",
              "      <td>0.00</td>\n",
              "      <td>0</td>\n",
              "      <td>35</td>\n",
              "    </tr>\n",
              "    <tr>\n",
              "      <th>4470</th>\n",
              "      <td>3780</td>\n",
              "      <td>10.67</td>\n",
              "      <td>0</td>\n",
              "      <td>0.00</td>\n",
              "      <td>0</td>\n",
              "      <td>0</td>\n",
              "    </tr>\n",
              "    <tr>\n",
              "      <th>4471</th>\n",
              "      <td>5076</td>\n",
              "      <td>23.47</td>\n",
              "      <td>0</td>\n",
              "      <td>0.00</td>\n",
              "      <td>0</td>\n",
              "      <td>0</td>\n",
              "    </tr>\n",
              "    <tr>\n",
              "      <th>4472</th>\n",
              "      <td>1620</td>\n",
              "      <td>5.33</td>\n",
              "      <td>0</td>\n",
              "      <td>0.00</td>\n",
              "      <td>0</td>\n",
              "      <td>162</td>\n",
              "    </tr>\n",
              "    <tr>\n",
              "      <th>4473</th>\n",
              "      <td>2160</td>\n",
              "      <td>5.33</td>\n",
              "      <td>0</td>\n",
              "      <td>0.00</td>\n",
              "      <td>0</td>\n",
              "      <td>0</td>\n",
              "    </tr>\n",
              "  </tbody>\n",
              "</table>\n",
              "<p>4474 rows × 6 columns</p>\n",
              "</div>\n",
              "      <button class=\"colab-df-convert\" onclick=\"convertToInteractive('df-5d593b8a-89c7-42ab-951c-3a49ace50f29')\"\n",
              "              title=\"Convert this dataframe to an interactive table.\"\n",
              "              style=\"display:none;\">\n",
              "        \n",
              "  <svg xmlns=\"http://www.w3.org/2000/svg\" height=\"24px\"viewBox=\"0 0 24 24\"\n",
              "       width=\"24px\">\n",
              "    <path d=\"M0 0h24v24H0V0z\" fill=\"none\"/>\n",
              "    <path d=\"M18.56 5.44l.94 2.06.94-2.06 2.06-.94-2.06-.94-.94-2.06-.94 2.06-2.06.94zm-11 1L8.5 8.5l.94-2.06 2.06-.94-2.06-.94L8.5 2.5l-.94 2.06-2.06.94zm10 10l.94 2.06.94-2.06 2.06-.94-2.06-.94-.94-2.06-.94 2.06-2.06.94z\"/><path d=\"M17.41 7.96l-1.37-1.37c-.4-.4-.92-.59-1.43-.59-.52 0-1.04.2-1.43.59L10.3 9.45l-7.72 7.72c-.78.78-.78 2.05 0 2.83L4 21.41c.39.39.9.59 1.41.59.51 0 1.02-.2 1.41-.59l7.78-7.78 2.81-2.81c.8-.78.8-2.07 0-2.86zM5.41 20L4 18.59l7.72-7.72 1.47 1.35L5.41 20z\"/>\n",
              "  </svg>\n",
              "      </button>\n",
              "      \n",
              "  <style>\n",
              "    .colab-df-container {\n",
              "      display:flex;\n",
              "      flex-wrap:wrap;\n",
              "      gap: 12px;\n",
              "    }\n",
              "\n",
              "    .colab-df-convert {\n",
              "      background-color: #E8F0FE;\n",
              "      border: none;\n",
              "      border-radius: 50%;\n",
              "      cursor: pointer;\n",
              "      display: none;\n",
              "      fill: #1967D2;\n",
              "      height: 32px;\n",
              "      padding: 0 0 0 0;\n",
              "      width: 32px;\n",
              "    }\n",
              "\n",
              "    .colab-df-convert:hover {\n",
              "      background-color: #E2EBFA;\n",
              "      box-shadow: 0px 1px 2px rgba(60, 64, 67, 0.3), 0px 1px 3px 1px rgba(60, 64, 67, 0.15);\n",
              "      fill: #174EA6;\n",
              "    }\n",
              "\n",
              "    [theme=dark] .colab-df-convert {\n",
              "      background-color: #3B4455;\n",
              "      fill: #D2E3FC;\n",
              "    }\n",
              "\n",
              "    [theme=dark] .colab-df-convert:hover {\n",
              "      background-color: #434B5C;\n",
              "      box-shadow: 0px 1px 3px 1px rgba(0, 0, 0, 0.15);\n",
              "      filter: drop-shadow(0px 1px 2px rgba(0, 0, 0, 0.3));\n",
              "      fill: #FFFFFF;\n",
              "    }\n",
              "  </style>\n",
              "\n",
              "      <script>\n",
              "        const buttonEl =\n",
              "          document.querySelector('#df-5d593b8a-89c7-42ab-951c-3a49ace50f29 button.colab-df-convert');\n",
              "        buttonEl.style.display =\n",
              "          google.colab.kernel.accessAllowed ? 'block' : 'none';\n",
              "\n",
              "        async function convertToInteractive(key) {\n",
              "          const element = document.querySelector('#df-5d593b8a-89c7-42ab-951c-3a49ace50f29');\n",
              "          const dataTable =\n",
              "            await google.colab.kernel.invokeFunction('convertToInteractive',\n",
              "                                                     [key], {});\n",
              "          if (!dataTable) return;\n",
              "\n",
              "          const docLinkHtml = 'Like what you see? Visit the ' +\n",
              "            '<a target=\"_blank\" href=https://colab.research.google.com/notebooks/data_table.ipynb>data table notebook</a>'\n",
              "            + ' to learn more about interactive tables.';\n",
              "          element.innerHTML = '';\n",
              "          dataTable['output_type'] = 'display_data';\n",
              "          await google.colab.output.renderOutput(dataTable, element);\n",
              "          const docLink = document.createElement('div');\n",
              "          docLink.innerHTML = docLinkHtml;\n",
              "          element.appendChild(docLink);\n",
              "        }\n",
              "      </script>\n",
              "    </div>\n",
              "  </div>\n",
              "  "
            ]
          },
          "metadata": {},
          "execution_count": 12
        }
      ]
    },
    {
      "cell_type": "code",
      "source": [
        "y"
      ],
      "metadata": {
        "id": "oKIPXMncVgKF",
        "colab": {
          "base_uri": "https://localhost:8080/"
        },
        "outputId": "359ac101-b3db-43b3-8d80-d0ab546ff69b"
      },
      "execution_count": 13,
      "outputs": [
        {
          "output_type": "execute_result",
          "data": {
            "text/plain": [
              "0       0\n",
              "1       1\n",
              "2       1\n",
              "3       1\n",
              "4       0\n",
              "       ..\n",
              "4469    1\n",
              "4470    1\n",
              "4471    1\n",
              "4472    1\n",
              "4473    0\n",
              "Name: Target, Length: 4474, dtype: int64"
            ]
          },
          "metadata": {},
          "execution_count": 13
        }
      ]
    },
    {
      "cell_type": "code",
      "source": [
        "#Using MinMax Scaler\n",
        "scaler = MinMaxScaler() \n",
        "scaled_x = scaler.fit_transform(x) "
      ],
      "metadata": {
        "id": "xEAu4JmQT-_P"
      },
      "execution_count": 15,
      "outputs": []
    },
    {
      "cell_type": "code",
      "source": [
        "print(scaled_x )"
      ],
      "metadata": {
        "id": "CkNDxyP3UHBJ",
        "colab": {
          "base_uri": "https://localhost:8080/"
        },
        "outputId": "6172f98c-a2ea-4e6b-c876-0934c019cf97"
      },
      "execution_count": 16,
      "outputs": [
        {
          "output_type": "stream",
          "name": "stdout",
          "text": [
            "[[0.28571429 0.01366044 0.         0.03       0.         0.02139037]\n",
            " [0.14285714 0.03354707 0.         0.         0.         0.0828877 ]\n",
            " [0.28571429 0.01366044 0.         0.         0.         0.        ]\n",
            " ...\n",
            " [0.71428571 0.18223213 0.         0.         0.         0.        ]\n",
            " [0.20634921 0.01366044 0.         0.         0.         0.43315508]\n",
            " [0.28571429 0.01366044 0.         0.         0.         0.        ]]\n"
          ]
        }
      ]
    },
    {
      "cell_type": "markdown",
      "source": [
        "**Cross Validation with Naive Bayes , Decision Tree and Deep Learning**"
      ],
      "metadata": {
        "id": "nfPpj1aVAUrg"
      }
    },
    {
      "cell_type": "markdown",
      "source": [
        "**Naive Bayes**"
      ],
      "metadata": {
        "id": "qcwoyZ4qCA6I"
      }
    },
    {
      "cell_type": "code",
      "source": [
        "#10 Folds\n",
        "k_folds = KFold(n_splits = 10)"
      ],
      "metadata": {
        "id": "CIS7mCE4f4Wz"
      },
      "execution_count": 17,
      "outputs": []
    },
    {
      "cell_type": "code",
      "source": [
        "NBmodel = MultinomialNB()\n",
        "DTmodel = DecisionTreeClassifier(criterion=\"entropy\")"
      ],
      "metadata": {
        "id": "cWhyloMNAedl"
      },
      "execution_count": 18,
      "outputs": []
    },
    {
      "cell_type": "code",
      "source": [
        "#Naive Bayes\n",
        "scores = cross_val_score(NBmodel, scaled_x , y, scoring=\"accuracy\", cv = k_folds)\n",
        "print(\"Cross Validation Accuracy using Naive Bayes Classifier : \", scores)\n",
        "print(\"Average CV Accuracy: \", scores.mean())"
      ],
      "metadata": {
        "colab": {
          "base_uri": "https://localhost:8080/"
        },
        "id": "X_g8N-6XhPXa",
        "outputId": "e8f9e34d-840f-4ce2-f577-95a128237933"
      },
      "execution_count": 19,
      "outputs": [
        {
          "output_type": "stream",
          "name": "stdout",
          "text": [
            "Cross Validation Accuracy using Naive Bayes Classifier :  [0.72098214 0.734375   0.71205357 0.74107143 0.7360179  0.72706935\n",
            " 0.7606264  0.78076063 0.70917226 0.7360179 ]\n",
            "Average CV Accuracy:  0.7358146572387344\n"
          ]
        }
      ]
    },
    {
      "cell_type": "code",
      "source": [
        "scores = cross_val_score(NBmodel, scaled_x , y, scoring=\"recall\", cv = k_folds)\n",
        "print(\"Cross Validation Recall using Naive Bayes Classifier: \", scores)\n",
        "print(\"Average CV Recall: \", scores.mean())"
      ],
      "metadata": {
        "colab": {
          "base_uri": "https://localhost:8080/"
        },
        "id": "TeXIJ5gDeDUP",
        "outputId": "ed80200b-322c-46ae-b043-6f0be80e1d0e"
      },
      "execution_count": 21,
      "outputs": [
        {
          "output_type": "stream",
          "name": "stdout",
          "text": [
            "Cross Validation Recall using Naive Bayes Classifier:  [0.98214286 0.99561404 0.98237885 0.99115044 1.         0.98636364\n",
            " 0.9795082  0.9874477  1.         1.        ]\n",
            "Average CV Recall:  0.9904605721163721\n"
          ]
        }
      ]
    },
    {
      "cell_type": "code",
      "source": [
        "scores = cross_val_score(NBmodel, scaled_x , y, scoring=\"precision\", cv = k_folds)\n",
        "print(\"Cross Validation Precision using Naive Bayes Classifier:  \", scores)\n",
        "print(\"Average CV Precision: \", scores.mean())"
      ],
      "metadata": {
        "colab": {
          "base_uri": "https://localhost:8080/"
        },
        "id": "RNzlRzG1esNx",
        "outputId": "bd925d90-f8a8-420f-fca9-8f00480f180c"
      },
      "execution_count": 22,
      "outputs": [
        {
          "output_type": "stream",
          "name": "stdout",
          "text": [
            "Cross Validation Precision using Naive Bayes Classifier:   [0.64516129 0.65797101 0.6408046  0.66272189 0.63239875 0.64583333\n",
            " 0.70087977 0.71299094 0.62099125 0.64350453]\n",
            "Average CV Precision:  0.6563257370553177\n"
          ]
        }
      ]
    },
    {
      "cell_type": "code",
      "source": [
        "scores = cross_val_score(NBmodel, scaled_x , y, scoring=\"f1\", cv = k_folds)\n",
        "print(\"Cross Validation f1 using Naive Bayes Classifier: \", scores)\n",
        "print(\"Average CV f1: \", scores.mean())"
      ],
      "metadata": {
        "colab": {
          "base_uri": "https://localhost:8080/"
        },
        "id": "DAODC_yk76Hd",
        "outputId": "d1edc7be-13df-42ef-e232-cfde42c89408"
      },
      "execution_count": 35,
      "outputs": [
        {
          "output_type": "stream",
          "name": "stdout",
          "text": [
            "Cross Validation f1 using Naive Bayes Classifier:  [0.77876106 0.79232112 0.77565217 0.79432624 0.77480916 0.78057554\n",
            " 0.81709402 0.82807018 0.76618705 0.78308824]\n",
            "Average CV f1:  0.7890884771983278\n"
          ]
        }
      ]
    },
    {
      "cell_type": "markdown",
      "source": [
        "**Decision Tree**"
      ],
      "metadata": {
        "id": "0bvnhGjLCNL3"
      }
    },
    {
      "cell_type": "code",
      "source": [
        "#Decision Tree\n",
        "scores = cross_val_score(DTmodel, scaled_x, y, scoring=\"accuracy\", cv = k_folds)\n",
        "print(\"Cross Validation Accuracy: \", scores)\n",
        "print(\"Average CV Accuracy: \", scores.mean())"
      ],
      "metadata": {
        "colab": {
          "base_uri": "https://localhost:8080/"
        },
        "id": "m9JrBr5qhQuz",
        "outputId": "2fe3a2e0-8f3e-4507-deea-9066e3645542"
      },
      "execution_count": 23,
      "outputs": [
        {
          "output_type": "stream",
          "name": "stdout",
          "text": [
            "Cross Validation Accuracy:  [0.78348214 0.82589286 0.828125   0.85044643 0.81655481 0.84116331\n",
            " 0.83221477 0.81879195 0.84116331 0.86129754]\n",
            "Average CV Accuracy:  0.8299132110898052\n"
          ]
        }
      ]
    },
    {
      "cell_type": "code",
      "source": [
        "scores = cross_val_score(DTmodel, scaled_x , y, scoring=\"recall\", cv = k_folds)\n",
        "print(\"Cross Validation Recall using Decision Tree: \", scores)\n",
        "print(\"Average CV Recall: \", scores.mean())"
      ],
      "metadata": {
        "colab": {
          "base_uri": "https://localhost:8080/"
        },
        "id": "ZztmPhDce1zY",
        "outputId": "9acc6698-1ab9-4cf4-d5a1-49bd1a2513e1"
      },
      "execution_count": 24,
      "outputs": [
        {
          "output_type": "stream",
          "name": "stdout",
          "text": [
            "Cross Validation Recall using Decision Tree:  [0.70982143 0.75877193 0.78414097 0.83628319 0.76847291 0.78181818\n",
            " 0.79508197 0.76987448 0.82159624 0.82159624]\n",
            "Average CV Recall:  0.7847457534085288\n"
          ]
        }
      ]
    },
    {
      "cell_type": "code",
      "source": [
        "scores = cross_val_score(DTmodel, scaled_x , y, scoring=\"precision\", cv = k_folds)\n",
        "print(\"Cross Validation Precision using Decision Tree: \", scores)\n",
        "print(\"Average CV Precision: \", scores.mean())"
      ],
      "metadata": {
        "colab": {
          "base_uri": "https://localhost:8080/"
        },
        "id": "eY-kV8RJe63A",
        "outputId": "3838d81a-a9f1-4c36-effc-3793d5696f15"
      },
      "execution_count": 25,
      "outputs": [
        {
          "output_type": "stream",
          "name": "stdout",
          "text": [
            "Cross Validation Precision using Decision Tree:  [0.8342246  0.87692308 0.85645933 0.86238532 0.82010582 0.87817259\n",
            " 0.88584475 0.87323944 0.84134615 0.87309645]\n",
            "Average CV Precision:  0.8601797522061151\n"
          ]
        }
      ]
    },
    {
      "cell_type": "code",
      "source": [
        "scores = cross_val_score(DTmodel, scaled_x, y, scoring=\"f1\", cv = k_folds)\n",
        "print(\"Cross Validation F1 using Decision Tree: \", scores)\n",
        "print(\"Average CV F1: \", scores.mean())"
      ],
      "metadata": {
        "colab": {
          "base_uri": "https://localhost:8080/"
        },
        "id": "WmJP6JA5e_Mo",
        "outputId": "a28056d3-e9a4-4224-e1cc-7da785cc7407"
      },
      "execution_count": 26,
      "outputs": [
        {
          "output_type": "stream",
          "name": "stdout",
          "text": [
            "Cross Validation F1 using Decision Tree:  [0.76328502 0.8056872  0.82298851 0.8494382  0.78772379 0.82692308\n",
            " 0.84233261 0.82300885 0.83333333 0.84466019]\n",
            "Average CV F1:  0.8199380788486235\n"
          ]
        }
      ]
    },
    {
      "cell_type": "markdown",
      "source": [
        "**Deep Learning**"
      ],
      "metadata": {
        "id": "Qn4wFcM5Fbm_"
      }
    },
    {
      "cell_type": "code",
      "source": [
        "#Deep Learning Manual Claculation \n",
        "def recall_m(y_true, y_pred):\n",
        "    true_positives = K.sum(K.round(K.clip(y_true * y_pred, 0, 1)))\n",
        "    possible_positives = K.sum(K.round(K.clip(y_true, 0, 1)))\n",
        "    recall = true_positives / (possible_positives + K.epsilon())\n",
        "    return recall\n",
        "\n",
        "def precision_m(y_true, y_pred):\n",
        "    true_positives = K.sum(K.round(K.clip(y_true * y_pred, 0, 1)))\n",
        "    predicted_positives = K.sum(K.round(K.clip(y_pred, 0, 1)))\n",
        "    precision = true_positives / (predicted_positives + K.epsilon())\n",
        "    return precision\n",
        "\n",
        "def f1_m(y_true, y_pred):\n",
        "    precision = precision_m(y_true, y_pred)\n",
        "    recall = recall_m(y_true, y_pred)\n",
        "    return 2*((precision*recall)/(precision+recall+K.epsilon()))"
      ],
      "metadata": {
        "id": "q3blFZKF916a"
      },
      "execution_count": 27,
      "outputs": []
    },
    {
      "cell_type": "code",
      "source": [
        "#Deep Learning With Cross Validation\n",
        "Dlcvscores1 = []\n",
        "Dlcvscores2 = []\n",
        "Dlcvscores3 = []\n",
        "Dlcvscores4 = []\n",
        "for train, test in k_folds.split(scaled_x, y):\n",
        " # create model\n",
        " model = Sequential()\n",
        " model.add(Dense(10, input_dim=6, activation='relu'))\n",
        " model.add(Dense(10, activation='relu'))\n",
        " model.add(Dense(1, activation='sigmoid'))\n",
        " # Compile model\n",
        " model.compile(optimizer='adam', loss='binary_crossentropy', metrics=['acc',f1_m,precision_m, recall_m])\n",
        " # Fit the model\n",
        " model.fit(scaled_x[train], y[train], epochs=10, batch_size=10, verbose=0)\n",
        " # evaluate the model\n",
        " loss, accuracy, f1_score, precision, recall = model.evaluate(scaled_x[test], y[test], verbose=0)\n",
        " print(\"%s: %.2f%%\" % ('accuracy', accuracy*100))\n",
        " print(\"%s: %.2f%%\" % ('f1_score', f1_score*100))\n",
        " print(\"%s: %.2f%%\" % ('precision', precision*100))\n",
        " print(\"%s: %.2f%%\" % ('recall', recall*100))\n",
        " print('Waiting for other folds to be taken as test set')\n",
        "Dlcvscores1.append(accuracy * 100)\n",
        "Dlcvscores2.append(f1_score * 100)\n",
        "Dlcvscores3.append(precision * 100)\n",
        "Dlcvscores4.append(recall * 100)\n",
        "\n",
        "print(\"Average CV Accuracy (Cross Validation): \", (np.mean(Dlcvscores1)))\n",
        "print(\"Average CV F1 (Cross Validation): \", (np.mean(Dlcvscores2)))\n",
        "print(\"Average CV Precision (Cross Validation) : \", (np.mean(Dlcvscores3)))\n",
        "print(\"Average CV Recall (Cross Validation) : \", (np.mean(Dlcvscores4)))"
      ],
      "metadata": {
        "colab": {
          "base_uri": "https://localhost:8080/"
        },
        "id": "uZ0HCfxOAfz2",
        "outputId": "e1954203-2a5a-4df1-cfee-2e6fe8f847e2"
      },
      "execution_count": 28,
      "outputs": [
        {
          "output_type": "stream",
          "name": "stdout",
          "text": [
            "accuracy: 78.12%\n",
            "f1_score: 78.08%\n",
            "precision: 79.90%\n",
            "recall: 77.01%\n",
            "Waiting for other folds to be taken as test set\n",
            "accuracy: 78.12%\n",
            "f1_score: 79.49%\n",
            "precision: 75.12%\n",
            "recall: 84.99%\n",
            "Waiting for other folds to be taken as test set\n",
            "accuracy: 80.36%\n",
            "f1_score: 79.43%\n",
            "precision: 82.54%\n",
            "recall: 77.34%\n",
            "Waiting for other folds to be taken as test set\n",
            "accuracy: 83.48%\n",
            "f1_score: 82.45%\n",
            "precision: 89.95%\n",
            "recall: 77.12%\n",
            "Waiting for other folds to be taken as test set\n",
            "accuracy: 77.63%\n",
            "f1_score: 74.03%\n",
            "precision: 75.13%\n",
            "recall: 74.87%\n",
            "Waiting for other folds to be taken as test set\n",
            "accuracy: 80.76%\n",
            "f1_score: 77.28%\n",
            "precision: 88.28%\n",
            "recall: 69.50%\n",
            "Waiting for other folds to be taken as test set\n",
            "accuracy: 79.87%\n",
            "f1_score: 79.71%\n",
            "precision: 86.85%\n",
            "recall: 74.53%\n",
            "Waiting for other folds to be taken as test set\n",
            "accuracy: 79.42%\n",
            "f1_score: 77.70%\n",
            "precision: 86.75%\n",
            "recall: 70.99%\n",
            "Waiting for other folds to be taken as test set\n",
            "accuracy: 80.98%\n",
            "f1_score: 79.08%\n",
            "precision: 83.99%\n",
            "recall: 76.96%\n",
            "Waiting for other folds to be taken as test set\n",
            "accuracy: 82.10%\n",
            "f1_score: 81.42%\n",
            "precision: 78.07%\n",
            "recall: 86.28%\n",
            "Waiting for other folds to be taken as test set\n",
            "Average CV Accuracy (Cross Validation):  82.10290670394897\n",
            "Average CV F1 (Cross Validation):  81.42317533493042\n",
            "Average CV Precision (Cross Validation) :  78.0727207660675\n",
            "Average CV Recall (Cross Validation) :  86.2754225730896\n"
          ]
        }
      ]
    },
    {
      "cell_type": "markdown",
      "source": [
        "**70/30 approach**"
      ],
      "metadata": {
        "id": "OfJi9OMgC0Fv"
      }
    },
    {
      "cell_type": "code",
      "source": [
        "x_train, x_test, y_train, y_test = train_test_split(x_scaled,y, stratify=y, test_size=0.3, random_state=None)"
      ],
      "metadata": {
        "id": "0dxd_bvlvA_e"
      },
      "execution_count": null,
      "outputs": []
    },
    {
      "cell_type": "markdown",
      "source": [
        "**Naive Bayes Classifier**"
      ],
      "metadata": {
        "id": "L2gAatszC9Zw"
      }
    },
    {
      "cell_type": "code",
      "source": [
        "modelNB = MultinomialNB()\n",
        "modelNB.fit(x_train, y_train)"
      ],
      "metadata": {
        "colab": {
          "base_uri": "https://localhost:8080/"
        },
        "id": "pdebBl8FvmPH",
        "outputId": "cf4bfd97-7f01-48ed-c068-c1bf5db78fec"
      },
      "execution_count": null,
      "outputs": [
        {
          "output_type": "execute_result",
          "data": {
            "text/plain": [
              "MultinomialNB()"
            ]
          },
          "metadata": {},
          "execution_count": 63
        }
      ]
    },
    {
      "cell_type": "code",
      "source": [
        "y_predict = modelNB.predict(x_test)"
      ],
      "metadata": {
        "id": "-i360bsdB_DZ"
      },
      "execution_count": null,
      "outputs": []
    },
    {
      "cell_type": "code",
      "source": [
        "print('Accuracy: %.3f' % accuracy_score(y_test, y_predict))\n",
        "print('Recall: %.3f' % recall_score(y_test, y_predict))\n",
        "print('Precision: %.3f' % precision_score(y_test, y_predict))\n",
        "print('F1: %.3f' % f1_score(y_test, y_predict))"
      ],
      "metadata": {
        "colab": {
          "base_uri": "https://localhost:8080/"
        },
        "id": "-Ls44JYxIYum",
        "outputId": "dab3d74a-724b-4793-b829-d14716bf554d"
      },
      "execution_count": null,
      "outputs": [
        {
          "output_type": "stream",
          "name": "stdout",
          "text": [
            "Accuracy: 0.711\n",
            "Recall: 0.958\n",
            "Precision: 0.641\n",
            "F1: 0.768\n"
          ]
        }
      ]
    },
    {
      "cell_type": "markdown",
      "source": [
        "**Decision Tree**"
      ],
      "metadata": {
        "id": "XXWadWLNDJjH"
      }
    },
    {
      "cell_type": "code",
      "source": [
        "modelDT = DecisionTreeClassifier(criterion=\"entropy\")\n",
        "modelDT.fit(x_train, y_train)"
      ],
      "metadata": {
        "colab": {
          "base_uri": "https://localhost:8080/"
        },
        "id": "rtdmXKOHbSEg",
        "outputId": "4f7fb09d-ed81-47f4-eb3f-9f59aa67593a"
      },
      "execution_count": null,
      "outputs": [
        {
          "output_type": "execute_result",
          "data": {
            "text/plain": [
              "DecisionTreeClassifier(criterion='entropy')"
            ]
          },
          "metadata": {},
          "execution_count": 67
        }
      ]
    },
    {
      "cell_type": "code",
      "source": [
        "y_predict2 = modelDT.predict(x_test)"
      ],
      "metadata": {
        "id": "ZZ26pJ0DbUFx"
      },
      "execution_count": null,
      "outputs": []
    },
    {
      "cell_type": "code",
      "source": [
        "print('Accuracy: %.3f' % accuracy_score(y_test, y_predict2))\n",
        "print('Recall: %.3f' % recall_score(y_test, y_predict2))\n",
        "print('Precision: %.3f' % precision_score(y_test, y_predict2))\n",
        "print('F1: %.3f' % f1_score(y_test, y_predict2))"
      ],
      "metadata": {
        "colab": {
          "base_uri": "https://localhost:8080/"
        },
        "id": "C925P8gpCneg",
        "outputId": "a1b8398b-d9f2-4e75-9a0d-2a9c9eab3355"
      },
      "execution_count": null,
      "outputs": [
        {
          "output_type": "stream",
          "name": "stdout",
          "text": [
            "Accuracy: 0.815\n",
            "Recall: 0.781\n",
            "Precision: 0.839\n",
            "F1: 0.809\n"
          ]
        }
      ]
    },
    {
      "cell_type": "markdown",
      "source": [
        "**Deep Learning**"
      ],
      "metadata": {
        "id": "9tFLkDqVDPBv"
      }
    },
    {
      "cell_type": "code",
      "source": [
        "modelDL = Sequential()\n",
        "modelDL.add(Dense(8, input_dim=6, activation='relu'))\n",
        "modelDL.add(Dense(6, activation='relu'))\n",
        "modelDL.add(Dense(4, activation='relu'))\n",
        "modelDL.add(Dense(1, activation='sigmoid'))\n",
        "# Compile model\n",
        "modelDL.compile(optimizer='adam', loss='binary_crossentropy', metrics=['acc',f1_m,precision_m, recall_m])\n",
        "# Fit the model\n",
        "modelDL.fit(x_train, y_train, epochs=20, batch_size=10, verbose=1)"
      ],
      "metadata": {
        "id": "YvvULZO9iiFM",
        "colab": {
          "base_uri": "https://localhost:8080/"
        },
        "outputId": "d188d6af-6fb6-4d29-b105-712f785675a8"
      },
      "execution_count": null,
      "outputs": [
        {
          "output_type": "stream",
          "name": "stdout",
          "text": [
            "Epoch 1/20\n",
            "314/314 [==============================] - 2s 2ms/step - loss: 0.6580 - acc: 0.5733 - f1_m: 0.2619 - precision_m: 0.4518 - recall_m: 0.2060\n",
            "Epoch 2/20\n",
            "314/314 [==============================] - 1s 2ms/step - loss: 0.5682 - acc: 0.7288 - f1_m: 0.6461 - precision_m: 0.8037 - recall_m: 0.5900\n",
            "Epoch 3/20\n",
            "314/314 [==============================] - 1s 2ms/step - loss: 0.4614 - acc: 0.7889 - f1_m: 0.7613 - precision_m: 0.8149 - recall_m: 0.7614\n",
            "Epoch 4/20\n",
            "314/314 [==============================] - 1s 3ms/step - loss: 0.4046 - acc: 0.7981 - f1_m: 0.7753 - precision_m: 0.8381 - recall_m: 0.7575\n",
            "Epoch 5/20\n",
            "314/314 [==============================] - 1s 4ms/step - loss: 0.3804 - acc: 0.7997 - f1_m: 0.7715 - precision_m: 0.8140 - recall_m: 0.7680\n",
            "Epoch 6/20\n",
            "314/314 [==============================] - 1s 3ms/step - loss: 0.3677 - acc: 0.8023 - f1_m: 0.7743 - precision_m: 0.8231 - recall_m: 0.7710\n",
            "Epoch 7/20\n",
            "314/314 [==============================] - 1s 4ms/step - loss: 0.3597 - acc: 0.8055 - f1_m: 0.7779 - precision_m: 0.8125 - recall_m: 0.7832\n",
            "Epoch 8/20\n",
            "314/314 [==============================] - 1s 3ms/step - loss: 0.3537 - acc: 0.8170 - f1_m: 0.7960 - precision_m: 0.8412 - recall_m: 0.7899\n",
            "Epoch 9/20\n",
            "314/314 [==============================] - 1s 4ms/step - loss: 0.3496 - acc: 0.8141 - f1_m: 0.7889 - precision_m: 0.8216 - recall_m: 0.7971\n",
            "Epoch 10/20\n",
            "314/314 [==============================] - 1s 4ms/step - loss: 0.3478 - acc: 0.8125 - f1_m: 0.7924 - precision_m: 0.8337 - recall_m: 0.7914\n",
            "Epoch 11/20\n",
            "314/314 [==============================] - 1s 3ms/step - loss: 0.3441 - acc: 0.8106 - f1_m: 0.7787 - precision_m: 0.8185 - recall_m: 0.7849\n",
            "Epoch 12/20\n",
            "314/314 [==============================] - 1s 2ms/step - loss: 0.3418 - acc: 0.8167 - f1_m: 0.7900 - precision_m: 0.8335 - recall_m: 0.7836\n",
            "Epoch 13/20\n",
            "314/314 [==============================] - 1s 2ms/step - loss: 0.3402 - acc: 0.8148 - f1_m: 0.7898 - precision_m: 0.8293 - recall_m: 0.7945\n",
            "Epoch 14/20\n",
            "314/314 [==============================] - 1s 2ms/step - loss: 0.3381 - acc: 0.8170 - f1_m: 0.7885 - precision_m: 0.8258 - recall_m: 0.7958\n",
            "Epoch 15/20\n",
            "314/314 [==============================] - 1s 2ms/step - loss: 0.3363 - acc: 0.8221 - f1_m: 0.7922 - precision_m: 0.8347 - recall_m: 0.7871\n",
            "Epoch 16/20\n",
            "314/314 [==============================] - 1s 2ms/step - loss: 0.3364 - acc: 0.8224 - f1_m: 0.7980 - precision_m: 0.8361 - recall_m: 0.8013\n",
            "Epoch 17/20\n",
            "314/314 [==============================] - 1s 2ms/step - loss: 0.3349 - acc: 0.8205 - f1_m: 0.7983 - precision_m: 0.8310 - recall_m: 0.8014\n",
            "Epoch 18/20\n",
            "314/314 [==============================] - 1s 2ms/step - loss: 0.3350 - acc: 0.8211 - f1_m: 0.8021 - precision_m: 0.8371 - recall_m: 0.8064\n",
            "Epoch 19/20\n",
            "314/314 [==============================] - 1s 2ms/step - loss: 0.3347 - acc: 0.8192 - f1_m: 0.7986 - precision_m: 0.8376 - recall_m: 0.8001\n",
            "Epoch 20/20\n",
            "314/314 [==============================] - 1s 2ms/step - loss: 0.3303 - acc: 0.8224 - f1_m: 0.8016 - precision_m: 0.8307 - recall_m: 0.8123\n"
          ]
        },
        {
          "output_type": "execute_result",
          "data": {
            "text/plain": [
              "<keras.callbacks.History at 0x7fd50086d910>"
            ]
          },
          "metadata": {},
          "execution_count": 91
        }
      ]
    },
    {
      "cell_type": "code",
      "source": [
        "\n",
        "loss, accuracy, f1_score, precision, recall = modelDL.evaluate(x_test, y_test, verbose=0)"
      ],
      "metadata": {
        "id": "N1I5h_n98N8v"
      },
      "execution_count": null,
      "outputs": []
    },
    {
      "cell_type": "code",
      "source": [
        "print('Accuracy: ', accuracy)\n",
        "print('Recall: ', recall)\n",
        "print('Precision: ', precision)\n",
        "print('F1: ', f1_score)"
      ],
      "metadata": {
        "colab": {
          "base_uri": "https://localhost:8080/"
        },
        "id": "2vMbJnDmMhtE",
        "outputId": "1b47aa68-6448-46fb-916b-33931cf5f40b"
      },
      "execution_count": null,
      "outputs": [
        {
          "output_type": "stream",
          "name": "stdout",
          "text": [
            "Accuracy:  0.8078927993774414\n",
            "Recall:  0.7769321203231812\n",
            "Precision:  0.8286899328231812\n",
            "F1:  0.7974483966827393\n"
          ]
        }
      ]
    }
  ]
}